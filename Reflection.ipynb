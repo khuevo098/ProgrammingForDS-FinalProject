{
 "cells": [
  {
   "cell_type": "markdown",
   "id": "5a1c479f-8332-4bc4-a93e-32b839fe45b0",
   "metadata": {},
   "source": [
    "# **FINAL PROJECT - PROGRAMMING FOR DATA SCIENCE** \n",
    "\n",
    "### COLLABORATOR\n",
    "|<center><div style=\"width:150px\">ID</div><center>|<center><div style=\"width:290px\">Name</div><center>|\n",
    "|---------- |:-------------:|\n",
    "| <center>21120464<center>  | <center>Nguyễn Quốc Hưng<center> |\n",
    "| <center>21120486<center>  |   <center>Võ Minh Khuê<center>   | \n",
    "| <center>21120091<center>  |<center>Hồ Sỹ Kiên<center> |"
   ]
  },
  {
   "cell_type": "markdown",
   "id": "52c2453b-4596-4076-a287-7326a7dc9258",
   "metadata": {},
   "source": [
    "## Reflection"
   ]
  },
  {
   "cell_type": "markdown",
   "id": "5d26e638-b794-4cc3-ba34-d283e21daffa",
   "metadata": {},
   "source": [
    "### Member: Hưng\n",
    "- Difficulties encountered: Although the topic of the data set is quite interesting, the meaningful data fields make it a bit difficult for me to understand.\n",
    "- Learned:\n",
    "  - Select and analyze a dataset yourself.\n",
    "  - Manage source code in GitHub ."
   ]
  },
  {
   "cell_type": "markdown",
   "id": "19fd60fa-f67b-4fba-a122-15063aea2159",
   "metadata": {},
   "source": [
    "### Member: Kiên\n",
    "- Difficulties encountered:\n",
    "  - Have a few difficulties in using Github since this is my first time.\n",
    "  - Feel a little hard to make a meaningful question.\n",
    "- Learned:\n",
    "  - Find, explore and analyze a dataset myself.\n",
    "  - Manage source code in GitHub.\n",
    "  - Teamwork clearly."
   ]
  },
  {
   "cell_type": "markdown",
   "id": "b28e433d-868b-401f-8ffe-a5fad2de1c2f",
   "metadata": {},
   "source": [
    "### Member: Khuê\n",
    "- Difficulties encountered:\n",
    "  - Select the fittest and appropriate dataset in a forest of ones.\n",
    "  - (A little bit) Brainstorm meaningful questions and answer them in a straightforward .\n",
    "  - Manage project with Git/Github.\n",
    "- Learned:\n",
    "  - Improve my skills about teamworks.\n",
    "  - Learn how to take advantage of Git/Github to control code versions."
   ]
  },
  {
   "cell_type": "markdown",
   "id": "e11a516e-b0a0-4397-bca8-9cc23d6b9ff2",
   "metadata": {},
   "source": [
    "### Team: If my team had more time, we would deploy more machine learning models to predict the results of the questions.\n"
   ]
  }
 ],
 "metadata": {
  "kernelspec": {
   "display_name": "Python 3 (ipykernel)",
   "language": "python",
   "name": "python3"
  },
  "language_info": {
   "codemirror_mode": {
    "name": "ipython",
    "version": 3
   },
   "file_extension": ".py",
   "mimetype": "text/x-python",
   "name": "python",
   "nbconvert_exporter": "python",
   "pygments_lexer": "ipython3",
   "version": "3.10.8"
  }
 },
 "nbformat": 4,
 "nbformat_minor": 5
}
